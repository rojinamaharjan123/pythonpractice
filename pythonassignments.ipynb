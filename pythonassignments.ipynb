{
 "cells": [
  {
   "cell_type": "code",
   "execution_count": 0,
   "metadata": {
    "collapsed": false
   },
   "outputs": [
   ],
   "source": [
    "#python assignment"
   ]
  },
  {
   "cell_type": "code",
   "execution_count": 0,
   "metadata": {
    "collapsed": false
   },
   "outputs": [
   ],
   "source": [
    "#1)Write a Python program to count the number of characters (character frequency) in a string.\n"
   ]
  },
  {
   "cell_type": "code",
   "execution_count": 11,
   "metadata": {
    "cocalc": {
     "outputs": {
      "0": {
       "name": "input",
       "opts": {
        "password": false,
        "prompt": "Enter the String"
       },
       "output_type": "stream",
       "value": "google"
      }
     }
    },
    "collapsed": false
   },
   "outputs": [
    {
     "name": "stdout",
     "output_type": "stream",
     "text": "Enter the String google"
    },
    {
     "data": {
      "text/plain": [
       "{'g': 2, 'o': 2, 'l': 1, 'e': 1}"
      ]
     },
     "execution_count": 11,
     "metadata": {
     },
     "output_type": "execute_result"
    }
   ],
   "source": [
    "character=input(\"Enter the String\")\n",
    "def count_char_frequency(string):\n",
    "    dict={}\n",
    "    for i in character:\n",
    "        keys=dict.keys()\n",
    "        if i in keys:\n",
    "            dict[i]+=1\n",
    "        else:\n",
    "            dict[i]=1\n",
    "    return dict\n",
    "count_char_frequency(character)\n",
    "\n"
   ]
  },
  {
   "cell_type": "code",
   "execution_count": 3,
   "metadata": {
    "cocalc": {
     "outputs": {
      "0": {
       "name": "input",
       "opts": {
        "password": false,
        "prompt": "enter the string you want"
       },
       "output_type": "stream",
       "value": "classroom"
      }
     }
    },
    "collapsed": false
   },
   "outputs": [
    {
     "name": "stdout",
     "output_type": "stream",
     "text": "enter the string you want classroom"
    },
    {
     "data": {
      "text/plain": [
       "{'c': 1, 'l': 1, 'a': 1, 's': 2, 'r': 1, 'o': 2, 'm': 1}"
      ]
     },
     "execution_count": 3,
     "metadata": {
     },
     "output_type": "execute_result"
    }
   ],
   "source": [
    "character=input(\"enter the string you want\")\n",
    "def count_str_frequency(str):\n",
    "    dict={}\n",
    "    for i in charcter:\n",
    "        if i in dict:\n",
    "            dict[i]+=1\n",
    "        else:\n",
    "            dict[i]=1\n",
    "    return dict\n",
    "count_str_frequency(character)\n",
    "           "
   ]
  },
  {
   "cell_type": "code",
   "execution_count": 0,
   "metadata": {
    "collapsed": false
   },
   "outputs": [
   ],
   "source": [
    "#2)Write a Python program to get a string made of the first 2 and the last 2 chars from a given a string. If the string length is less than 2, return instead of the empty string."
   ]
  },
  {
   "cell_type": "code",
   "execution_count": 31,
   "metadata": {
    "cocalc": {
     "outputs": {
      "0": {
       "name": "input",
       "opts": {
        "password": false,
        "prompt": "enter the string"
       },
       "output_type": "stream",
       "value": "py"
      }
     }
    },
    "collapsed": false
   },
   "outputs": [
    {
     "name": "stdout",
     "output_type": "stream",
     "text": "enter the string py"
    },
    {
     "data": {
      "text/plain": [
       "'pypy'"
      ]
     },
     "execution_count": 31,
     "metadata": {
     },
     "output_type": "execute_result"
    }
   ],
   "source": [
    "input_string=input(\"enter the string\")\n",
    "def concatenation(str):\n",
    "    for i in input_string:\n",
    "        if len(input_string)<2:\n",
    "            return ''\n",
    "        else:\n",
    "            string=input_string[0:2]+input_string[-2:]\n",
    "            return string\n",
    "concatenation(input_string)"
   ]
  },
  {
   "cell_type": "code",
   "execution_count": 28,
   "metadata": {
    "collapsed": false
   },
   "outputs": [
    {
     "name": "stdout",
     "output_type": "stream",
     "text": [
      "ol\n"
     ]
    }
   ],
   "source": [
    "#3)Write a Python program to get a string from a given string where all occurrences of its first char have been changed to '$', except the first char itself.\n"
   ]
  },
  {
   "cell_type": "code",
   "execution_count": 84,
   "metadata": {
    "cocalc": {
     "outputs": {
      "0": {
       "name": "input",
       "opts": {
        "password": false,
        "prompt": "Enter the string"
       },
       "output_type": "stream",
       "value": "resatrt"
      }
     }
    },
    "collapsed": false
   },
   "outputs": [
    {
     "name": "stdout",
     "output_type": "stream",
     "text": "Enter the string resatrt"
    },
    {
     "data": {
      "text/plain": [
       "'resat$t'"
      ]
     },
     "execution_count": 84,
     "metadata": {
     },
     "output_type": "execute_result"
    }
   ],
   "source": [
    "input_string=input(\"Enter the string\")\n",
    "def alter_string(str):\n",
    "    first_char=str[0]\n",
    "    alterd_str=str[1:].replace(first_char,\"$\")\n",
    "    return first_char+alterd_str\n",
    "alter_string(input_string)\n"
   ]
  },
  {
   "cell_type": "code",
   "execution_count": 0,
   "metadata": {
    "collapsed": false
   },
   "outputs": [
   ],
   "source": [
    "#4)Write a Python program to get a single string from two given strings, separated by a space and swap the first two characters of each string."
   ]
  },
  {
   "cell_type": "code",
   "execution_count": 85,
   "metadata": {
    "cocalc": {
     "outputs": {
      "0": {
       "name": "input",
       "opts": {
        "password": false,
        "prompt": "Enter the  first string"
       },
       "output_type": "stream",
       "value": "abc"
      },
      "1": {
       "name": "input",
       "opts": {
        "password": false,
        "prompt": "Enter the second string"
       },
       "output_type": "stream",
       "value": "xyz"
      }
     }
    },
    "collapsed": false
   },
   "outputs": [
    {
     "name": "stdout",
     "output_type": "stream",
     "text": "Enter the  first string abc"
    },
    {
     "name": "stdout",
     "output_type": "stream",
     "text": "Enter the second string xyz"
    },
    {
     "name": "stdout",
     "output_type": "stream",
     "text": [
      "xyz\tabc\n"
     ]
    }
   ],
   "source": [
    "first_string=input(\"Enter the  first string\")\n",
    "second_string=input(\"Enter the second string\")\n",
    "output_string=second_string+'\\t'+first_string\n",
    "print(output_string)"
   ]
  },
  {
   "cell_type": "code",
   "execution_count": 0,
   "metadata": {
    "collapsed": false
   },
   "outputs": [
   ],
   "source": [
    "#5)Write a Python program to add 'ing' at the end of a given string (length should be at least 3). If the given string already ends with 'ing' then add 'ly' instead. If the string length of the given string is less than 3, leave it unchanged."
   ]
  },
  {
   "cell_type": "code",
   "execution_count": 99,
   "metadata": {
    "cocalc": {
     "outputs": {
      "0": {
       "name": "input",
       "opts": {
        "password": false,
        "prompt": "Enter the string"
       },
       "output_type": "stream",
       "value": "eating"
      }
     }
    },
    "collapsed": false
   },
   "outputs": [
    {
     "name": "stdout",
     "output_type": "stream",
     "text": "Enter the string eating"
    },
    {
     "data": {
      "text/plain": [
       "'eatly'"
      ]
     },
     "execution_count": 99,
     "metadata": {
     },
     "output_type": "execute_result"
    }
   ],
   "source": [
    "input_string=input(\"Enter the string\")\n",
    "def alter_string(str):\n",
    "    char='ing'\n",
    "    if len(str)<3:\n",
    "        return str\n",
    "    elif str[-3:] == char:\n",
    "        return str.replace(char,'ly')\n",
    "    else:\n",
    "        return str+'ing'\n",
    "alter_string(input_string)"
   ]
  },
  {
   "cell_type": "code",
   "execution_count": 0,
   "metadata": {
    "collapsed": false
   },
   "outputs": [
   ],
   "source": [
    "#6) Write a Python program to find the first appearance of the substring 'not' and 'poor' from a given string, if 'not' follows the 'poor', replace the whole 'not'...'poor' substring with 'good'. Return the resulting string."
   ]
  },
  {
   "cell_type": "code",
   "execution_count": 0,
   "metadata": {
    "collapsed": false
   },
   "outputs": [
   ],
   "source": [
    "input_sentence=input(\"Enter the sentence\")\n",
    "def alter_sentence(str):\n",
    "    for word in input_Sentence:\n",
    "        if "
   ]
  },
  {
   "cell_type": "code",
   "execution_count": 0,
   "metadata": {
    "collapsed": false
   },
   "outputs": [
   ],
   "source": [
    "#7) Write a Python function that takes a list of words and returns the length of the longest one."
   ]
  },
  {
   "cell_type": "code",
   "execution_count": 111,
   "metadata": {
    "cocalc": {
     "outputs": {
      "0": {
       "name": "input",
       "opts": {
        "password": false,
        "prompt": "enter the word you want to add to the list"
       },
       "output_type": "stream",
       "value": "gaagg"
      },
      "2": {
       "name": "input",
       "opts": {
        "password": false,
        "prompt": "enter y or yes to continue"
       },
       "output_type": "stream",
       "value": "y"
      },
      "3": {
       "name": "input",
       "opts": {
        "password": false,
        "prompt": "enter the word you want to add to the list"
       },
       "output_type": "stream",
       "value": "abbb"
      },
      "5": {
       "name": "input",
       "opts": {
        "password": false,
        "prompt": "enter y or yes to continue"
       },
       "output_type": "stream",
       "value": "n"
      }
     }
    },
    "collapsed": false
   },
   "outputs": [
    {
     "name": "stdout",
     "output_type": "stream",
     "text": "enter the word you want to add to the list gaagg"
    },
    {
     "name": "stdout",
     "output_type": "stream",
     "text": [
      "Do you still want to continue?\n"
     ]
    },
    {
     "name": "stdout",
     "output_type": "stream",
     "text": "enter y or yes to continue y"
    },
    {
     "name": "stdout",
     "output_type": "stream",
     "text": "enter the word you want to add to the list abbb"
    },
    {
     "name": "stdout",
     "output_type": "stream",
     "text": [
      "Do you still want to continue?\n"
     ]
    },
    {
     "name": "stdout",
     "output_type": "stream",
     "text": "enter y or yes to continue n"
    },
    {
     "ename": "TypeError",
     "evalue": "'type' object is not iterable",
     "output_type": "error",
     "traceback": [
      "\u001b[0;31m---------------------------------------------------------------------------\u001b[0m",
      "\u001b[0;31mTypeError\u001b[0m                                 Traceback (most recent call last)",
      "\u001b[0;32m<ipython-input-111-54c34864e62b>\u001b[0m in \u001b[0;36m<module>\u001b[0;34m\u001b[0m\n\u001b[1;32m     17\u001b[0m     \u001b[0;32mreturn\u001b[0m \u001b[0mmax\u001b[0m\u001b[0;34m\u001b[0m\u001b[0;34m\u001b[0m\u001b[0m\n\u001b[1;32m     18\u001b[0m \u001b[0;34m\u001b[0m\u001b[0m\n\u001b[0;32m---> 19\u001b[0;31m \u001b[0madd_items\u001b[0m\u001b[0;34m(\u001b[0m\u001b[0;34m)\u001b[0m\u001b[0;34m\u001b[0m\u001b[0;34m\u001b[0m\u001b[0m\n\u001b[0m",
      "\u001b[0;32m<ipython-input-111-54c34864e62b>\u001b[0m in \u001b[0;36madd_items\u001b[0;34m()\u001b[0m\n\u001b[1;32m      9\u001b[0m         \u001b[0;32mif\u001b[0m \u001b[0;32mnot\u001b[0m \u001b[0;34m(\u001b[0m\u001b[0mchar\u001b[0m\u001b[0;34m.\u001b[0m\u001b[0mlower\u001b[0m\u001b[0;34m(\u001b[0m\u001b[0;34m)\u001b[0m\u001b[0;34m==\u001b[0m\u001b[0;34m'y'\u001b[0m \u001b[0;32mor\u001b[0m \u001b[0mchar\u001b[0m\u001b[0;34m.\u001b[0m\u001b[0mlower\u001b[0m\u001b[0;34m(\u001b[0m\u001b[0;34m)\u001b[0m\u001b[0;34m==\u001b[0m\u001b[0;34m'yes'\u001b[0m\u001b[0;34m)\u001b[0m\u001b[0;34m:\u001b[0m\u001b[0;34m\u001b[0m\u001b[0;34m\u001b[0m\u001b[0m\n\u001b[1;32m     10\u001b[0m             \u001b[0;32mbreak\u001b[0m\u001b[0;34m\u001b[0m\u001b[0;34m\u001b[0m\u001b[0m\n\u001b[0;32m---> 11\u001b[0;31m     \u001b[0;32mreturn\u001b[0m \u001b[0mlength_of_the_longest\u001b[0m\u001b[0;34m(\u001b[0m\u001b[0;34m)\u001b[0m\u001b[0;34m\u001b[0m\u001b[0;34m\u001b[0m\u001b[0m\n\u001b[0m\u001b[1;32m     12\u001b[0m \u001b[0;32mdef\u001b[0m \u001b[0mlength_of_the_longest\u001b[0m\u001b[0;34m(\u001b[0m\u001b[0;34m)\u001b[0m\u001b[0;34m:\u001b[0m\u001b[0;34m\u001b[0m\u001b[0;34m\u001b[0m\u001b[0m\n\u001b[1;32m     13\u001b[0m     \u001b[0mmax\u001b[0m\u001b[0;34m=\u001b[0m\u001b[0;36m0\u001b[0m\u001b[0;34m\u001b[0m\u001b[0;34m\u001b[0m\u001b[0m\n",
      "\u001b[0;32m<ipython-input-111-54c34864e62b>\u001b[0m in \u001b[0;36mlength_of_the_longest\u001b[0;34m()\u001b[0m\n\u001b[1;32m     12\u001b[0m \u001b[0;32mdef\u001b[0m \u001b[0mlength_of_the_longest\u001b[0m\u001b[0;34m(\u001b[0m\u001b[0;34m)\u001b[0m\u001b[0;34m:\u001b[0m\u001b[0;34m\u001b[0m\u001b[0;34m\u001b[0m\u001b[0m\n\u001b[1;32m     13\u001b[0m     \u001b[0mmax\u001b[0m\u001b[0;34m=\u001b[0m\u001b[0;36m0\u001b[0m\u001b[0;34m\u001b[0m\u001b[0;34m\u001b[0m\u001b[0m\n\u001b[0;32m---> 14\u001b[0;31m     \u001b[0;32mfor\u001b[0m \u001b[0mi\u001b[0m \u001b[0;32min\u001b[0m \u001b[0mlist\u001b[0m\u001b[0;34m:\u001b[0m\u001b[0;34m\u001b[0m\u001b[0;34m\u001b[0m\u001b[0m\n\u001b[0m\u001b[1;32m     15\u001b[0m         \u001b[0;32mif\u001b[0m \u001b[0mlen\u001b[0m\u001b[0;34m(\u001b[0m\u001b[0mi\u001b[0m\u001b[0;34m)\u001b[0m\u001b[0;34m>\u001b[0m\u001b[0mmax\u001b[0m\u001b[0;34m:\u001b[0m\u001b[0;34m\u001b[0m\u001b[0;34m\u001b[0m\u001b[0m\n\u001b[1;32m     16\u001b[0m             \u001b[0mmax\u001b[0m\u001b[0;34m=\u001b[0m\u001b[0mlen\u001b[0m\u001b[0;34m(\u001b[0m\u001b[0mi\u001b[0m\u001b[0;34m)\u001b[0m\u001b[0;34m\u001b[0m\u001b[0;34m\u001b[0m\u001b[0m\n",
      "\u001b[0;31mTypeError\u001b[0m: 'type' object is not iterable"
     ]
    }
   ],
   "source": [
    "def add_items():\n",
    "    items=[]\n",
    "    while True:\n",
    "        char='y'\n",
    "        input_word=input(\"enter the word you want to add to the list\")\n",
    "        items.append(input_word)\n",
    "        print(\"Do you still want to continue?\")\n",
    "        char=input(\"enter y or yes to continue\")\n",
    "        if not (char.lower()=='y' or char.lower()=='yes'):\n",
    "            break\n",
    "    return length_of_the_longest()\n",
    "def length_of_the_longest():\n",
    "    max=0\n",
    "    for i in list[]:\n",
    "        if len(i)>max:\n",
    "            max=len(i)\n",
    "    return max\n",
    "\n",
    "add_items()\n"
   ]
  },
  {
   "cell_type": "code",
   "execution_count": 6,
   "metadata": {
    "collapsed": false
   },
   "outputs": [
    {
     "data": {
      "text/plain": [
       "'Helo'"
      ]
     },
     "execution_count": 6,
     "metadata": {
     },
     "output_type": "execute_result"
    }
   ],
   "source": [
    "''' 8) Write a Python program to remove the n\n",
    "th\n",
    "index character from a nonempty\n",
    "\n",
    "string.'''\n",
    "\n",
    "def remove_string(str,n):\n",
    "    first=str[:n]\n",
    "    last=str[n+1:]\n",
    "    result=first+last\n",
    "    return result\n",
    "remove_string('Hello',3)\n",
    " "
   ]
  },
  {
   "cell_type": "code",
   "execution_count": 116,
   "metadata": {
    "cocalc": {
     "outputs": {
      "0": {
       "name": "input",
       "opts": {
        "password": false,
        "prompt": "enter the string"
       },
       "output_type": "stream",
       "value": "school"
      },
      "1": {
       "name": "input",
       "opts": {
        "password": false,
        "prompt": "enter the index of the character that you want to remove "
       },
       "output_type": "stream",
       "value": "2"
      }
     }
    },
    "collapsed": false
   },
   "outputs": [
    {
     "name": "stdout",
     "output_type": "stream",
     "text": "enter the string school"
    },
    {
     "name": "stdout",
     "output_type": "stream",
     "text": "enter the index of the character that you want to remove  2"
    },
    {
     "name": "stdout",
     "output_type": "stream",
     "text": [
      "scool\n"
     ]
    }
   ],
   "source": [
    "input_string=input(\"enter the string\")\n",
    "char=int(input(\"enter the index of the character that you want to remove \"))\n",
    "new_string=input_string.replace(input_string[char],'')\n",
    "print(new_string)"
   ]
  },
  {
   "cell_type": "code",
   "execution_count": 0,
   "metadata": {
    "collapsed": false
   },
   "outputs": [
   ],
   "source": [
    "'''9) Write a Python program to change a given string to a new string where the first\n",
    "and last chars have been exchanged.'''"
   ]
  },
  {
   "cell_type": "code",
   "execution_count": 121,
   "metadata": {
    "cocalc": {
     "outputs": {
      "0": {
       "name": "input",
       "opts": {
        "password": false,
        "prompt": "Enter the string"
       },
       "output_type": "stream",
       "value": "rotate"
      }
     }
    },
    "collapsed": false
   },
   "outputs": [
    {
     "name": "stdout",
     "output_type": "stream",
     "text": "Enter the string rotate"
    },
    {
     "name": "stdout",
     "output_type": "stream",
     "text": [
      "eotatr\n"
     ]
    }
   ],
   "source": [
    "input_string=input(\"Enter the string\")\n",
    "first_char=input_string[0]\n",
    "last_char=input_string[-1]\n",
    "new_string=last_char+input_string[1:(len(input_string)-1)]+first_char\n",
    "print(new_string)"
   ]
  },
  {
   "cell_type": "code",
   "execution_count": 123,
   "metadata": {
    "cocalc": {
     "outputs": {
      "0": {
       "name": "input",
       "opts": {
        "password": false,
        "prompt": "Enter the string"
       },
       "output_type": "stream",
       "value": "remove"
      }
     }
    },
    "collapsed": false
   },
   "outputs": [
    {
     "name": "stdout",
     "output_type": "stream",
     "text": "Enter the string remove"
    },
    {
     "data": {
      "text/plain": [
       "'rmv'"
      ]
     },
     "execution_count": 123,
     "metadata": {
     },
     "output_type": "execute_result"
    }
   ],
   "source": [
    "'''10) Write a Python program to remove the characters which have odd index\n",
    "values of a given string.'''\n",
    "\n",
    "\n",
    "input_string=input(\"Enter the string\")\n",
    "def remove_odd_index(str):\n",
    "    char=''\n",
    "    for i in str:\n",
    "        if (str.index(i))%2 is 0:\n",
    "            char+=i\n",
    "    return char\n",
    "remove_odd_index(input_string)\n",
    "    "
   ]
  },
  {
   "cell_type": "code",
   "execution_count": 136,
   "metadata": {
    "cocalc": {
     "outputs": {
      "0": {
       "name": "input",
       "opts": {
        "password": false,
        "prompt": "Enter the sentence"
       },
       "output_type": "stream",
       "value": "the main body od the sentence is "
      }
     }
    },
    "collapsed": false
   },
   "outputs": [
    {
     "name": "stdout",
     "output_type": "stream",
     "text": "Enter the sentence the main body od the sentence is "
    },
    {
     "data": {
      "text/plain": [
       "{'the': 2, 'main': 1, 'body': 1, 'od': 1, 'sentence': 1, 'is': 1}"
      ]
     },
     "execution_count": 136,
     "metadata": {
     },
     "output_type": "execute_result"
    }
   ],
   "source": [
    "'''11) Write a Python program to count the occurrences of each word in a given\n",
    "sentence.'''\n",
    "\n",
    "\n",
    "input_sentence=input(\"Enter the sentence\")\n",
    "def count_word(sentence):\n",
    "    list=dict()\n",
    "    words=sentence.split()\n",
    "    for i in words:\n",
    "        if i in list:\n",
    "            list[i]+=1\n",
    "        else:\n",
    "            list[i]=1\n",
    "    return list\n",
    "count_word(input_sentence)"
   ]
  },
  {
   "cell_type": "code",
   "execution_count": 138,
   "metadata": {
    "cocalc": {
     "outputs": {
      "0": {
       "name": "input",
       "opts": {
        "password": false,
        "prompt": "Enter the string"
       },
       "output_type": "stream",
       "value": "Hello"
      }
     }
    },
    "collapsed": false
   },
   "outputs": [
    {
     "name": "stdout",
     "output_type": "stream",
     "text": "Enter the string Hello"
    },
    {
     "name": "stdout",
     "output_type": "stream",
     "text": [
      "The string in lower case is hello\n",
      "The string in upper case is HELLO\n"
     ]
    }
   ],
   "source": [
    "'''12) Write a Python script that takes input from the user and displays that input\n",
    "back in upper and lower cases.'''\n",
    "\n",
    "\n",
    "input_word=input(\"Enter the string\")\n",
    "def upper_lower(str):\n",
    "    upper=str.upper()\n",
    "    lower=str.lower()\n",
    "    print(\"The string in lower case is\",lower)\n",
    "    print(\"The string in upper case is\",upper)\n",
    "upper_lower(input_word)"
   ]
  },
  {
   "cell_type": "code",
   "execution_count": 147,
   "metadata": {
    "cocalc": {
     "outputs": {
      "0": {
       "name": "input",
       "opts": {
        "password": false,
        "prompt": "Enter the items in the list separated by comma"
       },
       "output_type": "stream",
       "value": "red,yellow,green"
      }
     }
    },
    "collapsed": false
   },
   "outputs": [
    {
     "name": "stdout",
     "output_type": "stream",
     "text": "Enter the items in the list separated by comma red,yellow,green"
    },
    {
     "name": "stdout",
     "output_type": "stream",
     "text": [
      "['green', 'red', 'yellow']\n"
     ]
    }
   ],
   "source": [
    "'''13)Write a Python program that accepts a comma separated sequence of words\n",
    "as input and prints the unique words in sorted form (alphanumerically).'''\n",
    "\n",
    "\n",
    "\n",
    "input_list=input(\"Enter the items in the list separated by comma\")\n",
    "input_list=input_list.split(\",\")\n",
    "\n",
    "input_list=sorted(input_list)\n",
    "print(input_list)"
   ]
  },
  {
   "cell_type": "code",
   "execution_count": 7,
   "metadata": {
    "collapsed": false
   },
   "outputs": [
    {
     "data": {
      "text/plain": [
       "'<b>python<b>'"
      ]
     },
     "execution_count": 7,
     "metadata": {
     },
     "output_type": "execute_result"
    }
   ],
   "source": [
    "''' 14) Write a Python function to create the HTML string with tags around the\n",
    "word(s).'''\n",
    "def add_tags(tag,string):\n",
    "    return \"<%s>%s<%s>\" %(tag,string,tag)\n",
    "add_tags('b','python')\n"
   ]
  },
  {
   "cell_type": "code",
   "execution_count": 0,
   "metadata": {
    "collapsed": false
   },
   "outputs": [
   ],
   "source": [
    "'''15) Write a Python function to insert a string in the middle of a string.'''\n",
    "\n",
    "def insert_string(sentence,string):\n",
    "    "
   ]
  },
  {
   "cell_type": "code",
   "execution_count": 12,
   "metadata": {
    "collapsed": false
   },
   "outputs": [
    {
     "name": "stdout",
     "output_type": "stream",
     "text": [
      "26\n"
     ]
    }
   ],
   "source": [
    "'''16) Write a Python program to sum all the items in a list.'''\n",
    "\n",
    "list=[1,2,3,4,5,6,5]\n",
    "sum=0\n",
    "for i in list:\n",
    "    sum+=i\n",
    "print (sum)\n"
   ]
  },
  {
   "cell_type": "code",
   "execution_count": 18,
   "metadata": {
    "collapsed": false
   },
   "outputs": [
    {
     "name": "stdout",
     "output_type": "stream",
     "text": [
      "504\n"
     ]
    }
   ],
   "source": [
    "'''17)Write a Python program to multiplies all the items in a list.'''\n",
    "\n",
    "list=[1,3,4,6,7]\n",
    "mul=1\n",
    "for i in list:\n",
    "    mul*=i\n",
    "print (mul)       \n",
    "        "
   ]
  },
  {
   "cell_type": "code",
   "execution_count": 19,
   "metadata": {
    "collapsed": false
   },
   "outputs": [
    {
     "name": "stdout",
     "output_type": "stream",
     "text": [
      "87\n"
     ]
    }
   ],
   "source": [
    "'''18) Write a Python program to get the largest number from a list.'''\n",
    "\n",
    "list=[34,67,87,65,43,5]\n",
    "largest=list[0]\n",
    "for i in list:\n",
    "    if i>largest:\n",
    "        largest=i\n",
    "print (largest)"
   ]
  },
  {
   "cell_type": "code",
   "execution_count": 20,
   "metadata": {
    "collapsed": false
   },
   "outputs": [
    {
     "name": "stdout",
     "output_type": "stream",
     "text": [
      "4\n"
     ]
    }
   ],
   "source": [
    "'''19)Write a Python program to get the smallest number from a list.'''\n",
    "\n",
    "list=[4,73,67,65,43,57]\n",
    "smallest=list[0]\n",
    "for i in list:\n",
    "    if i<smallest:\n",
    "        smallest=i\n",
    "print (smallest)"
   ]
  },
  {
   "cell_type": "code",
   "execution_count": 23,
   "metadata": {
    "cocalc": {
     "outputs": {
      "0": {
       "name": "input",
       "opts": {
        "password": false,
        "prompt": "Enter the strings as per your wish"
       },
       "output_type": "stream",
       "value": "hello mam sis"
      }
     }
    },
    "collapsed": false
   },
   "outputs": [
    {
     "name": "stdout",
     "output_type": "stream",
     "text": "Enter the strings as per your wish hello mam sis"
    },
    {
     "data": {
      "text/plain": [
       "2"
      ]
     },
     "execution_count": 23,
     "metadata": {
     },
     "output_type": "execute_result"
    }
   ],
   "source": [
    "'''20)Write a Python program to count the number of strings where the string\n",
    "length is 2 or more and the first and last character are same from a given list of\n",
    "strings. '''\n",
    "\n",
    "input_string=input(\"Enter the strings as per your wish\")\n",
    "def count_string(str):\n",
    "    count=0\n",
    "    words=input_string.split(' ')\n",
    "    for word in words:\n",
    "        if (len(word)>=2 ) and (word[0] is word[-1]):\n",
    "            count+=1\n",
    "    return count\n",
    "count_string(input_string)\n"
   ]
  },
  {
   "cell_type": "code",
   "execution_count": 3,
   "metadata": {
    "collapsed": false
   },
   "outputs": [
    {
     "name": "stdout",
     "output_type": "stream",
     "text": [
      "[(4, 1), (6, 3), (1, 4), (3, 5), (5, 6)]\n"
     ]
    }
   ],
   "source": [
    "'''21) Write a Python program to get a list, sorted in increasing order by the last\n",
    "element in each tuple from a given list of non-empty tuples.'''\n",
    "\n",
    "\n",
    "my_list=[(1,4),(3,5),(6,3),(5,6),(4,1)]\n",
    "sorted_list=sorted(my_list,key=lambda x:x[1])\n",
    "print(sorted_list)\n"
   ]
  },
  {
   "cell_type": "code",
   "execution_count": 14,
   "metadata": {
    "collapsed": false
   },
   "outputs": [
    {
     "name": "stdout",
     "output_type": "stream",
     "text": [
      "[1, 3, 4, 5, 35, 56, 66, 2]\n"
     ]
    }
   ],
   "source": [
    "'''22) 22. Write a Python program to remove duplicates from a list.'''\n",
    "\n",
    "my_list=[1,3,4,5,35,56,66,4,5,4,2,1]\n",
    "new_list=[]\n",
    "for i in my_list:\n",
    "    if i not in new_list:\n",
    "           new_list.append(i)\n",
    "print (new_list)"
   ]
  },
  {
   "cell_type": "code",
   "execution_count": 20,
   "metadata": {
    "collapsed": false
   },
   "outputs": [
    {
     "name": "stdout",
     "output_type": "stream",
     "text": [
      "the list is not empty\n"
     ]
    }
   ],
   "source": [
    "'''23) Write a Python program to check a list is empty or not.'''\n",
    "\n",
    "def check_is_empty(list):\n",
    "    if len(list) is 0:\n",
    "        print(\"List is empty\")\n",
    "    else:\n",
    "        print(\"the list is not empty\")\n",
    "        \n",
    "check_is_empty([1,2,3,4,5,6])\n",
    "    \n",
    "\n",
    "    \n",
    "\n"
   ]
  },
  {
   "cell_type": "code",
   "execution_count": 15,
   "metadata": {
    "collapsed": false
   },
   "outputs": [
    {
     "name": "stdout",
     "output_type": "stream",
     "text": [
      "[1, 2, 3, 4, 5]\n"
     ]
    }
   ],
   "source": [
    "'''24) Write a Python program to clone or copy a list.'''\n",
    "\n",
    "list=[1,2,3,4,5]\n",
    "new_list=list.copy()\n",
    "print(new_list)"
   ]
  },
  {
   "cell_type": "code",
   "execution_count": 22,
   "metadata": {
    "collapsed": false
   },
   "outputs": [
    {
     "name": "stdout",
     "output_type": "stream",
     "text": [
      "False\n"
     ]
    }
   ],
   "source": [
    "'''25) Write a Python program to check whether all dictionaries in a list are empty or not'''\n",
    "\n",
    "\n",
    "list=[{},{1,2},{}]\n",
    "is_empty=True\n",
    "for i in list:\n",
    "    if i:\n",
    "        is_empty=False\n",
    "print(is_empty)\n",
    "\n",
    "    "
   ]
  },
  {
   "cell_type": "code",
   "execution_count": 49,
   "metadata": {
    "cocalc": {
     "outputs": {
      "0": {
       "name": "input",
       "opts": {
        "password": false,
        "prompt": "enter the string you want to add at the beginning"
       },
       "output_type": "stream",
       "value": "hh"
      }
     }
    },
    "collapsed": false
   },
   "outputs": [
    {
     "name": "stdout",
     "output_type": "stream",
     "text": "enter the string you want to add at the beginning hh"
    },
    {
     "name": "stdout",
     "output_type": "stream",
     "text": [
      "['hhabc', 'hhbg', 'hhhh', 'hhtt']\n"
     ]
    }
   ],
   "source": [
    "'''26)Write a Python program to insert a given string at the beginning of all items in\n",
    "a list.'''\n",
    "char=input(\"enter the string you want to add at the beginning\")\n",
    "given_list=['abc','bg','hh','tt']\n",
    "char += '{0}'\n",
    "given_list = [char.format(i) for i in given_list] \n",
    "print(given_list) "
   ]
  },
  {
   "cell_type": "code",
   "execution_count": 40,
   "metadata": {
    "collapsed": false
   },
   "outputs": [
    {
     "name": "stdout",
     "output_type": "stream",
     "text": [
      "{'a': 1, 'b': 3, 'c': 5, 'f': 5, 'j': 7}\n"
     ]
    }
   ],
   "source": [
    "'''27)Write a Python script to add a key to a dictionary.'''\n",
    "new_dict={'a':1,'b':3,'c':5,'f':5}\n",
    "new_dict.update({'j':7})\n",
    "print(new_dict)\n"
   ]
  },
  {
   "cell_type": "code",
   "execution_count": 0,
   "metadata": {
    "collapsed": false
   },
   "outputs": [
   ],
   "source": [
    "'''28)Write a Python program to replace the last element in a list with another list.'''\n",
    "old_list=[1,2,4,5,6,7]\n",
    "a=[3,4,5,6,6]\n"
   ]
  },
  {
   "cell_type": "code",
   "execution_count": 35,
   "metadata": {
    "collapsed": false
   },
   "outputs": [
    {
     "name": "stdout",
     "output_type": "stream",
     "text": [
      "{'a': 10, 'b': 20, 'c': 30, 'd': 40, 'e': 50, 'f': 60}\n"
     ]
    }
   ],
   "source": [
    "'''29) Write a Python script to concatenate following dictionaries to create a new one'''\n",
    "dic1={'a':10, 'b':20}\n",
    "dic2={'c':30, 'd':40}\n",
    "dic3={'e':50,'f':60}\n",
    "expected_dict={**dic1,**dic2,**dic3}\n",
    "print(expected_dict)\n",
    "\n",
    "\n",
    "\n"
   ]
  },
  {
   "cell_type": "code",
   "execution_count": 27,
   "metadata": {
    "cocalc": {
     "outputs": {
      "0": {
       "name": "input",
       "opts": {
        "password": false,
        "prompt": "Enter the key you want to check"
       },
       "output_type": "stream",
       "value": "b"
      }
     }
    },
    "collapsed": false
   },
   "outputs": [
    {
     "name": "stdout",
     "output_type": "stream",
     "text": "Enter the key you want to check b"
    },
    {
     "name": "stdout",
     "output_type": "stream",
     "text": [
      "duplicate key\n"
     ]
    }
   ],
   "source": [
    "'''30)  Write a Python script to check whether a given key already exists in a\n",
    "dictionary.'''\n",
    "key=input(\"Enter the key you want to check\")\n",
    "old_dict={'a':1,'b':2,'c':3,'d':4,'e':5}\n",
    "if key in old_dict:\n",
    "    print(\"duplicate key\")\n",
    "else:\n",
    "    print(\"not in dictionary\")"
   ]
  },
  {
   "cell_type": "code",
   "execution_count": 0,
   "metadata": {
    "collapsed": false
   },
   "outputs": [
   ],
   "source": [
    "'''31) Write a Python program to iterate over dictionaries using for loops.'''\n",
    "my_dict={'data1':34,'data2':4,'data3':56,'data4':67,'data5':44,'data6':77,'data7':86,'data8':67}\n",
    "for i in my_dict:\n",
    "    print(my_dict[i])"
   ]
  },
  {
   "cell_type": "code",
   "execution_count": 26,
   "metadata": {
    "cocalc": {
     "outputs": {
      "0": {
       "name": "input",
       "opts": {
        "password": false,
        "prompt": "enter the number"
       },
       "output_type": "stream",
       "value": "6"
      }
     }
    },
    "collapsed": false
   },
   "outputs": [
    {
     "name": "stdout",
     "output_type": "stream",
     "text": "enter the number 6"
    },
    {
     "name": "stdout",
     "output_type": "stream",
     "text": [
      "{1: 1, 2: 4, 3: 9, 4: 16, 5: 25, 6: 36}\n"
     ]
    }
   ],
   "source": [
    "'''32) Write a Python script to generate and print a dictionary that contains a\n",
    "number (between 1 and n) in the form (x, x*x).'''\n",
    "num=int(input(\"enter the number\"))\n",
    "d=dict()\n",
    "for i in range(1,num+1):\n",
    "    d[i]=i*i\n",
    "print(d)\n",
    "    "
   ]
  },
  {
   "cell_type": "code",
   "execution_count": 28,
   "metadata": {
    "collapsed": false
   },
   "outputs": [
    {
     "name": "stdout",
     "output_type": "stream",
     "text": [
      "{1: 1, 2: 4, 3: 9, 4: 16, 5: 25, 6: 36, 7: 49, 8: 64, 9: 81, 10: 100, 11: 121, 12: 144, 13: 169, 14: 196, 15: 225}\n"
     ]
    }
   ],
   "source": [
    "'''33) Write a Python script to print a dictionary where the keys are numbers\n",
    "between 1 and 15 (both included) and the values are square of keys'''\n",
    "\n",
    "d=dict()\n",
    "for i in range(1,16):\n",
    "    d[i]=i*i\n",
    "print(d)\n",
    "    "
   ]
  },
  {
   "cell_type": "code",
   "execution_count": 16,
   "metadata": {
    "collapsed": false
   },
   "outputs": [
    {
     "name": "stdout",
     "output_type": "stream",
     "text": [
      "{'data1': 34, 'data2': 4, 'data3': 56, 'data4': 67, 'a': 5, 'f': 5}\n"
     ]
    }
   ],
   "source": [
    "'''34) Write a Python script to merge two Python dictionaries.'''\n",
    "\n",
    "my_dict1={'data1':34,'data2':4,'data3':56,'data4':67}\n",
    "my_dict2={'a':5,'f':5}\n",
    "merge_dict=my_dict1.copy()\n",
    "merge_dict.update(my_dict2)\n",
    "print(merge_dict)"
   ]
  },
  {
   "cell_type": "code",
   "execution_count": 12,
   "metadata": {
    "collapsed": false
   },
   "outputs": [
    {
     "name": "stdout",
     "output_type": "stream",
     "text": [
      "34\n",
      "4\n",
      "56\n",
      "67\n",
      "44\n",
      "77\n",
      "86\n",
      "67\n"
     ]
    }
   ],
   "source": [
    "'''35) Write a Python program to iterate over dictionaries using for loops.'''\n",
    "my_dict={'data1':34,'data2':4,'data3':56,'data4':67,'data5':44,'data6':77,'data7':86,'data8':67}\n",
    "for i in my_dict:\n",
    "    print(my_dict[i])"
   ]
  },
  {
   "cell_type": "code",
   "execution_count": 11,
   "metadata": {
    "collapsed": false
   },
   "outputs": [
    {
     "name": "stdout",
     "output_type": "stream",
     "text": [
      "the sum all items in the list is161\n"
     ]
    }
   ],
   "source": [
    "'''36)Write a Python program to sum all the items in a dictionary.'''\n",
    "my_dict={'data1':34,'data2':4,'data3':56,'data4':67}\n",
    "sum=0\n",
    "for i in my_dict:\n",
    "    sum=sum+my_dict[i]\n",
    "print(\"the sum all items in the list is {0}\".format(sum))"
   ]
  },
  {
   "cell_type": "code",
   "execution_count": 6,
   "metadata": {
    "collapsed": false
   },
   "outputs": [
    {
     "name": "stdout",
     "output_type": "stream",
     "text": [
      "38720\n"
     ]
    }
   ],
   "source": [
    "'''37)Write a Python program to multiply all the items in a dictionary.'''\n",
    "my_dict={'value1':20,'value2':44,'value3':44}\n",
    "result=1\n",
    "for i in my_dict:\n",
    "    result=result*my_dict[i]\n",
    "print(result)\n",
    "    \n"
   ]
  },
  {
   "cell_type": "code",
   "execution_count": 3,
   "metadata": {
    "collapsed": false
   },
   "outputs": [
    {
     "name": "stdout",
     "output_type": "stream",
     "text": [
      "{1: 2, 6: 7}\n"
     ]
    }
   ],
   "source": [
    "'''38)Write a Python program to remove a key from a dictionary.'''\n",
    "my_dict={1:2,3:5,6:7}\n",
    "my_dict.pop(3)\n",
    "print(my_dict)"
   ]
  },
  {
   "cell_type": "code",
   "execution_count": 4,
   "metadata": {
    "collapsed": false
   },
   "outputs": [
    {
     "name": "stdout",
     "output_type": "stream",
     "text": [
      "Ram\n",
      "sundar\n",
      "Mahato\n"
     ]
    }
   ],
   "source": [
    "'''39) Write a Python program to unpack a tuple in several variables.'''\n",
    "my_variable=(\"Ram\",\"sundar\",\"Mahato\")\n",
    "(fullname,middlename,lastname)=my_variable\n",
    "print(fullname)\n",
    "print(middlename)\n",
    "print(lastname)\n"
   ]
  },
  {
   "cell_type": "code",
   "execution_count": 0,
   "metadata": {
    "collapsed": false
   },
   "outputs": [
   ],
   "source": [
    "'''40)Write a Python program to add an item in a tuple.'''\n",
    "#Ans: since Tuples ae immutable we cannot add an item in a tuple"
   ]
  },
  {
   "cell_type": "code",
   "execution_count": 1,
   "metadata": {
    "collapsed": false
   },
   "outputs": [
    {
     "name": "stdout",
     "output_type": "stream",
     "text": [
      "[2, 3, 5, 7, 9, 45, 67]\n"
     ]
    },
    {
     "ename": "AttributeError",
     "evalue": "'tuple' object has no attribute 'add'",
     "output_type": "error",
     "traceback": [
      "\u001b[0;31m---------------------------------------------------------------------------\u001b[0m",
      "\u001b[0;31mAttributeError\u001b[0m                            Traceback (most recent call last)",
      "\u001b[0;32m<ipython-input-1-0e8147abf4f5>\u001b[0m in \u001b[0;36m<module>\u001b[0;34m\u001b[0m\n\u001b[1;32m      4\u001b[0m \u001b[0mprint\u001b[0m\u001b[0;34m(\u001b[0m\u001b[0mmy_list\u001b[0m\u001b[0;34m)\u001b[0m\u001b[0;34m\u001b[0m\u001b[0;34m\u001b[0m\u001b[0m\n\u001b[1;32m      5\u001b[0m \u001b[0;32mfor\u001b[0m \u001b[0mi\u001b[0m \u001b[0;32min\u001b[0m \u001b[0mmy_list\u001b[0m\u001b[0;34m:\u001b[0m\u001b[0;34m\u001b[0m\u001b[0;34m\u001b[0m\u001b[0m\n\u001b[0;32m----> 6\u001b[0;31m     \u001b[0mmy_tuple\u001b[0m\u001b[0;34m.\u001b[0m\u001b[0madd\u001b[0m\u001b[0;34m(\u001b[0m\u001b[0mi\u001b[0m\u001b[0;34m)\u001b[0m\u001b[0;34m\u001b[0m\u001b[0;34m\u001b[0m\u001b[0m\n\u001b[0m\u001b[1;32m      7\u001b[0m \u001b[0mprint\u001b[0m\u001b[0;34m(\u001b[0m\u001b[0mmy_tuple\u001b[0m\u001b[0;34m)\u001b[0m\u001b[0;34m\u001b[0m\u001b[0;34m\u001b[0m\u001b[0m\n",
      "\u001b[0;31mAttributeError\u001b[0m: 'tuple' object has no attribute 'add'"
     ]
    }
   ],
   "source": [
    "'''41)Write a Python program to convert a list to a tuple.'''\n",
    "my_list=[2,3,5,7,9,45,67]\n",
    "my_tuple=()\n",
    "print(my_list)\n",
    "for i in my_list:\n",
    "    my_tuple.add(i)\n",
    "print(my_tuple)\n",
    "    \n",
    "    \n"
   ]
  },
  {
   "cell_type": "code",
   "execution_count": 0,
   "metadata": {
    "collapsed": false
   },
   "outputs": [
   ],
   "source": [
    "'''42)Write a Python program to remove an item from a tuple.'''\n",
    "#We cannot delete an item from tuple since it is immutable but we can delete entire tuple by using del\n",
    "tuple=(3,4,5,6)\n",
    "del tuple"
   ]
  },
  {
   "cell_type": "code",
   "execution_count": 24,
   "metadata": {
    "collapsed": false
   },
   "outputs": [
    {
     "name": "stdout",
     "output_type": "stream",
     "text": [
      "(4, 5, 6)\n"
     ]
    }
   ],
   "source": [
    "'''43)Write a Python program to slice a tuple.'''\n",
    "\n",
    "my_tuple=(1,2,3,4,5,6,7,8,9)\n",
    "slice=my_tuple[3:6]\n",
    "print(slice)"
   ]
  },
  {
   "cell_type": "code",
   "execution_count": 25,
   "metadata": {
    "cocalc": {
     "outputs": {
      "0": {
       "name": "input",
       "opts": {
        "password": false,
        "prompt": "enter the tuple  whose index you want to know"
       },
       "output_type": "stream",
       "value": "ff"
      }
     }
    },
    "collapsed": false
   },
   "outputs": [
    {
     "name": "stdout",
     "output_type": "stream",
     "text": "enter the tuple  whose index you want to know ff"
    },
    {
     "name": "stdout",
     "output_type": "stream",
     "text": [
      "the index of ff is 2 \n"
     ]
    }
   ],
   "source": [
    "'''45)Write a Python program to find the index of an item of a tuple.'''\n",
    "my_tuple=('abc','sd','ff','ghh','ht')\n",
    "char=input(\"enter the tuple  whose index you want to know\")\n",
    "index=my_tuple.index(char)\n",
    "print(\"the index of {0} is {1} \".format(char,index))"
   ]
  },
  {
   "cell_type": "code",
   "execution_count": 26,
   "metadata": {
    "collapsed": false
   },
   "outputs": [
    {
     "name": "stdout",
     "output_type": "stream",
     "text": [
      "7\n"
     ]
    }
   ],
   "source": [
    "'''46)Write a Python program to find the length of a tuple'''\n",
    "my_tuple=(1,3,4,5,3,4,2)\n",
    "length=len(my_tuple)\n",
    "print(length)"
   ]
  },
  {
   "cell_type": "code",
   "execution_count": 0,
   "metadata": {
    "collapsed": false
   },
   "outputs": [
   ],
   "source": [
    "#Function"
   ]
  },
  {
   "cell_type": "code",
   "execution_count": 13,
   "metadata": {
    "cocalc": {
     "outputs": {
      "0": {
       "name": "input",
       "opts": {
        "password": false,
        "prompt": "enter first number:"
       },
       "output_type": "stream",
       "value": "7"
      },
      "1": {
       "name": "input",
       "opts": {
        "password": false,
        "prompt": "Enter second number"
       },
       "output_type": "stream",
       "value": "7"
      },
      "2": {
       "name": "input",
       "opts": {
        "password": false,
        "prompt": "enter third  number"
       },
       "output_type": "stream",
       "value": "9"
      }
     }
    },
    "collapsed": false
   },
   "outputs": [
    {
     "name": "stdout",
     "output_type": "stream",
     "text": "enter first number: 7"
    },
    {
     "name": "stdout",
     "output_type": "stream",
     "text": "Enter second number 7"
    },
    {
     "name": "stdout",
     "output_type": "stream",
     "text": "enter third  number 9"
    },
    {
     "data": {
      "text/plain": [
       "9"
      ]
     },
     "execution_count": 13,
     "metadata": {
     },
     "output_type": "execute_result"
    }
   ],
   "source": [
    "'''1)Write a Python function to find the Max of three numbers.'''\n",
    "num1=int(input(\"enter first number:\"))\n",
    "num2=int(input(\"Enter second number\"))\n",
    "num3=int(input(\"enter third  number\"))\n",
    "def greatest(num1,num2,num3):\n",
    "    greatest=num1\n",
    "    if num2>=greatest and num2>=num3:\n",
    "        greatest=num2\n",
    "    elif num3>=greatest and num3>=num2:\n",
    "        greatest=num3\n",
    "    return greatest\n",
    "greatest(num1,num2,num3)"
   ]
  },
  {
   "cell_type": "code",
   "execution_count": 2,
   "metadata": {
    "collapsed": false
   },
   "outputs": [
    {
     "data": {
      "text/plain": [
       "254"
      ]
     },
     "execution_count": 2,
     "metadata": {
     },
     "output_type": "execute_result"
    }
   ],
   "source": [
    "'''2) Write a Python function to sum all the numbers in a list.'''\n",
    "\n",
    "list=[45,66,54,32,24,33]\n",
    "def sum(l):\n",
    "    result=0\n",
    "    for i in l:\n",
    "        result+=i\n",
    "    return result\n",
    "sum(list)\n",
    "        \n",
    "        "
   ]
  },
  {
   "cell_type": "code",
   "execution_count": 3,
   "metadata": {
    "collapsed": false
   },
   "outputs": [
    {
     "data": {
      "text/plain": [
       "4064670720"
      ]
     },
     "execution_count": 3,
     "metadata": {
     },
     "output_type": "execute_result"
    }
   ],
   "source": [
    "'''3)Write a Python function to multiply all the numbers in a list.'''\n",
    "\n",
    "list=[45,66,54,32,24,33]\n",
    "def multiply(l):\n",
    "    result=1\n",
    "    for i in l:\n",
    "        result*=i\n",
    "    return result\n",
    "multiply(list)\n",
    "        "
   ]
  },
  {
   "cell_type": "code",
   "execution_count": 22,
   "metadata": {
    "cocalc": {
     "outputs": {
      "0": {
       "name": "input",
       "opts": {
        "password": false,
        "prompt": "Enter the string to reverse"
       },
       "output_type": "stream",
       "value": "Hello"
      }
     }
    },
    "collapsed": false
   },
   "outputs": [
    {
     "name": "stdout",
     "output_type": "stream",
     "text": "Enter the string to reverse Hello"
    },
    {
     "data": {
      "text/plain": [
       "'olleH'"
      ]
     },
     "execution_count": 22,
     "metadata": {
     },
     "output_type": "execute_result"
    }
   ],
   "source": [
    "'''4) Write a Python program to reverse a string.'''\n",
    "\n",
    "input_string=input(\"Enter the string to reverse\")\n",
    "def reverse(char):\n",
    "    reversed_string=''\n",
    "    for i in char:\n",
    "        reversed_string=i+reversed_string\n",
    "    return reversed_string\n",
    "reverse(input_string)"
   ]
  },
  {
   "cell_type": "code",
   "execution_count": 25,
   "metadata": {
    "cocalc": {
     "outputs": {
      "0": {
       "name": "input",
       "opts": {
        "password": false,
        "prompt": "Enter the number"
       },
       "output_type": "stream",
       "value": "4"
      }
     }
    },
    "collapsed": false
   },
   "outputs": [
    {
     "name": "stdout",
     "output_type": "stream",
     "text": "Enter the number 4"
    },
    {
     "name": "stdout",
     "output_type": "stream",
     "text": [
      "24\n"
     ]
    }
   ],
   "source": [
    "'''5)Write a Python function to calculate the factorial of a number (a non-negative\n",
    "integer). The function accepts the number as an argument.'''\n",
    "\n",
    "num=int(input(\"Enter the number\"))\n",
    "def factorial(n):\n",
    "    if n is 1:\n",
    "        return 1\n",
    "    else:\n",
    "        return n*factorial(n-1)\n",
    "print(factorial(num))\n",
    "    "
   ]
  },
  {
   "cell_type": "code",
   "execution_count": 26,
   "metadata": {
    "cocalc": {
     "outputs": {
      "0": {
       "name": "input",
       "opts": {
        "password": false,
        "prompt": "enter the number you want to check"
       },
       "output_type": "stream",
       "value": "5"
      },
      "1": {
       "name": "input",
       "opts": {
        "password": false,
        "prompt": "enter the lower index of your range "
       },
       "output_type": "stream",
       "value": "3"
      },
      "2": {
       "name": "input",
       "opts": {
        "password": false,
        "prompt": "enter the upper index of your range "
       },
       "output_type": "stream",
       "value": "6"
      }
     }
    },
    "collapsed": false
   },
   "outputs": [
    {
     "name": "stdout",
     "output_type": "stream",
     "text": "enter the number you want to check 5"
    },
    {
     "name": "stdout",
     "output_type": "stream",
     "text": "enter the lower index of your range  3"
    },
    {
     "name": "stdout",
     "output_type": "stream",
     "text": "enter the upper index of your range  6"
    },
    {
     "name": "stdout",
     "output_type": "stream",
     "text": [
      "Is is in the range\n"
     ]
    }
   ],
   "source": [
    "'''6) Write a Python function to check whether a number is in a given range.'''\n",
    "num=int(input(\"enter the number you want to check\"))\n",
    "x=int(input(\"enter the lower index of your range \"))\n",
    "y=int(input(\"enter the upper index of your range \"))\n",
    "def check_range(num,x,y):\n",
    "    if num in range(x,y):\n",
    "        print(\"Is is in the range\")\n",
    "    else:\n",
    "        print(\"Out of range\")\n",
    "check_range(num,x,y)\n"
   ]
  },
  {
   "cell_type": "code",
   "execution_count": 30,
   "metadata": {
    "cocalc": {
     "outputs": {
      "0": {
       "name": "input",
       "opts": {
        "password": false,
        "prompt": "enter the string you want to count"
       },
       "output_type": "stream",
       "value": "7"
      }
     }
    },
    "collapsed": false
   },
   "outputs": [
    {
     "name": "stdout",
     "output_type": "stream",
     "text": "enter the string you want to count 7"
    },
    {
     "name": "stdout",
     "output_type": "stream",
     "text": [
      "Original String :  7\n",
      "No. of Upper case characters :  0\n",
      "No. of Lower case Characters :  0\n"
     ]
    }
   ],
   "source": [
    "'''7) Write a Python function that accepts a string and calculate the number of\n",
    "upper case letters and lower case letters.'''\n",
    "\n",
    "def string_test(s):\n",
    "    d={\"UPPER_CASE\":0, \"LOWER_CASE\":0}\n",
    "    for c in s:\n",
    "        if c.isupper():\n",
    "           d[\"UPPER_CASE\"]+=1\n",
    "        elif c.islower():\n",
    "           d[\"LOWER_CASE\"]+=1\n",
    "        else:\n",
    "           pass\n",
    "    print (\"Original String : \", s)\n",
    "    print (\"No. of Upper case characters : \", d[\"UPPER_CASE\"])\n",
    "    print (\"No. of Lower case Characters : \", d[\"LOWER_CASE\"])\n",
    "input_string=input(\"enter the string you want to count\")\n",
    "string_test(input_string)\n"
   ]
  },
  {
   "cell_type": "code",
   "execution_count": 33,
   "metadata": {
    "collapsed": false
   },
   "outputs": [
    {
     "data": {
      "text/plain": [
       "[5, 6, 7, 4, 3, 2, 1]"
      ]
     },
     "execution_count": 33,
     "metadata": {
     },
     "output_type": "execute_result"
    }
   ],
   "source": [
    "'''8) Write a Python function that takes a list and returns a new list with unique\n",
    "elements of the first list.'''\n",
    "\n",
    "old_list=[5,6,7,6,5,4,5,6,3,2,1]\n",
    "def unique_list(l):\n",
    "    new_list=[]\n",
    "    for i in l:\n",
    "        if i not in new_list:\n",
    "            new_list.append(i)\n",
    "    return new_list\n",
    "unique_list(old_list)"
   ]
  },
  {
   "cell_type": "code",
   "execution_count": 34,
   "metadata": {
    "cocalc": {
     "outputs": {
      "0": {
       "name": "input",
       "opts": {
        "password": false,
        "prompt": "Enter the number you want to test"
       },
       "output_type": "stream",
       "value": "67"
      }
     }
    },
    "collapsed": false
   },
   "outputs": [
    {
     "name": "stdout",
     "output_type": "stream",
     "text": "Enter the number you want to test 67"
    },
    {
     "name": "stdout",
     "output_type": "stream",
     "text": [
      "True\n"
     ]
    }
   ],
   "source": [
    "'''9) Write a Python function that takes a number as a parameter and check the\n",
    "number is prime or not.'''\n",
    "\n",
    "def test_prime(n):\n",
    "    if (n==1):\n",
    "        return False\n",
    "    elif (n==2):\n",
    "        return True;\n",
    "    else:\n",
    "        for i in range(2,n):\n",
    "            if(n % i==0):\n",
    "                return False\n",
    "        return True  \n",
    "num=int(input(\"Enter the number you want to test\"))\n",
    "print(test_prime(num))\n",
    "\n"
   ]
  },
  {
   "cell_type": "code",
   "execution_count": 35,
   "metadata": {
    "collapsed": false
   },
   "outputs": [
    {
     "data": {
      "text/plain": [
       "[2, 4, 8, 6, 4, 32]"
      ]
     },
     "execution_count": 35,
     "metadata": {
     },
     "output_type": "execute_result"
    }
   ],
   "source": [
    "'''10) Write a Python program to print the even numbers from a given list.'''\n",
    "\n",
    "given_list=[2,4,5,8,67,6,5,4,32,43]\n",
    "def check_even(l):\n",
    "    new_list=[]\n",
    "    for i in l:\n",
    "        if (i%2) is 0:\n",
    "            new_list.append(i)\n",
    "    return new_list\n",
    "check_even(given_list)\n",
    "            \n"
   ]
  },
  {
   "cell_type": "code",
   "execution_count": 4,
   "metadata": {
    "collapsed": false
   },
   "outputs": [
    {
     "name": "stdout",
     "output_type": "stream",
     "text": [
      "20\n",
      "25\n"
     ]
    }
   ],
   "source": [
    "'''11) Write a Python program to create a lambda function that adds 15 to a given\n",
    "number passed in as an argument, also create a lambda function that multiplies\n",
    "argument x with argument y and print the result.'''\n",
    "\n",
    "x=lambda a:a+15\n",
    "m=lambda x,y:x*y\n",
    "print(x(5))\n",
    "print(m(5,5))"
   ]
  },
  {
   "cell_type": "code",
   "execution_count": 5,
   "metadata": {
    "cocalc": {
     "outputs": {
      "0": {
       "name": "input",
       "opts": {
        "password": false,
        "prompt": "enter the number"
       },
       "output_type": "stream",
       "value": "7"
      }
     }
    },
    "collapsed": false
   },
   "outputs": [
    {
     "name": "stdout",
     "output_type": "stream",
     "text": "enter the number 7"
    },
    {
     "data": {
      "text/plain": [
       "49"
      ]
     },
     "execution_count": 5,
     "metadata": {
     },
     "output_type": "execute_result"
    }
   ],
   "source": [
    "'''12. Write a Python progrxam to create a function that takes one argument, and\n",
    "that argument will be multiplied with an unknown given number.'''\n",
    "\n",
    "num=int(input(\"enter the number\"))\n",
    "\n",
    "def random_mul(n):\n",
    "    result=n*num\n",
    "    return result\n",
    "random_mul(7)\n",
    "    "
   ]
  },
  {
   "cell_type": "code",
   "execution_count": 0,
   "metadata": {
    "collapsed": false
   },
   "outputs": [
   ],
   "source": [
    "'''13. Write a Python program to sort a list of tuples using Lambda.'''\n",
    "\n",
    "subject_marks = [('English', 88), ('Science', 90), ('Maths', 97), ('Social sciences', 82)]\n",
    "print(\"Original list of tuples:\")\n",
    "print(subject_marks)\n",
    "subject_marks.sort(key = lambda x: x[1])\n",
    "print(\"\\nSorting the List of Tuples:\")\n",
    "print(subject_marks)"
   ]
  },
  {
   "cell_type": "code",
   "execution_count": 4,
   "metadata": {
    "collapsed": false
   },
   "outputs": [
    {
     "name": "stdout",
     "output_type": "stream",
     "text": [
      "Original list of dictionaries :\n",
      "[{'make': 'Nokia', 'model': 216, 'color': 'Black'}, {'make': 'Mi Max', 'model': '2', 'color': 'Gold'}, {'make': 'Samsung', 'model': 7, 'color': 'Blue'}]\n",
      "\n",
      "Sorting the List of dictionaries :\n",
      "[{'make': 'Nokia', 'model': 216, 'color': 'Black'}, {'make': 'Samsung', 'model': 7, 'color': 'Blue'}, {'make': 'Mi Max', 'model': '2', 'color': 'Gold'}]\n"
     ]
    }
   ],
   "source": [
    "'''14. Write a Python program to sort a list of dictionaries using Lambda.'''\n",
    "models = [{'make':'Nokia', 'model':216, 'color':'Black'}, {'make':'Mi Max', 'model':'2', 'color':'Gold'}, {'make':'Samsung', 'model': 7, 'color':'Blue'}]\n",
    "print(\"Original list of dictionaries :\")\n",
    "print(models)\n",
    "sorted_models = sorted(models, key = lambda x: x['color'])\n",
    "print(\"\\nSorting the List of dictionaries :\")\n",
    "print(sorted_models)"
   ]
  },
  {
   "cell_type": "code",
   "execution_count": 3,
   "metadata": {
    "collapsed": false
   },
   "outputs": [
    {
     "name": "stdout",
     "output_type": "stream",
     "text": [
      "[2, 4, 6, 8, 4]\n"
     ]
    }
   ],
   "source": [
    "'''15. Write a Python program to filter a list of integers using Lambda.'''\n",
    "number_list=[2,4,5,6,7,8,9,5,4]\n",
    "filtered_list=list(filter( lambda x: x%2==0,number_list))\n",
    "print(filtered_list)\n"
   ]
  },
  {
   "cell_type": "code",
   "execution_count": 8,
   "metadata": {
    "collapsed": false
   },
   "outputs": [
    {
     "ename": "TypeError",
     "evalue": "'builtin_function_or_method' object is not subscriptable",
     "output_type": "error",
     "traceback": [
      "\u001b[0;31m---------------------------------------------------------------------------\u001b[0m",
      "\u001b[0;31mTypeError\u001b[0m                                 Traceback (most recent call last)",
      "\u001b[0;32m<ipython-input-8-c0895a9f4a28>\u001b[0m in \u001b[0;36m<module>\u001b[0;34m\u001b[0m\n\u001b[1;32m      7\u001b[0m     \u001b[0mcube_list\u001b[0m\u001b[0;34m=\u001b[0m\u001b[0;34m[\u001b[0m\u001b[0;34m]\u001b[0m\u001b[0;34m\u001b[0m\u001b[0;34m\u001b[0m\u001b[0m\n\u001b[1;32m      8\u001b[0m     \u001b[0mx\u001b[0m\u001b[0;34m=\u001b[0m\u001b[0;32mlambda\u001b[0m \u001b[0ma\u001b[0m\u001b[0;34m:\u001b[0m\u001b[0ma\u001b[0m\u001b[0;34m*\u001b[0m\u001b[0ma\u001b[0m\u001b[0;34m\u001b[0m\u001b[0;34m\u001b[0m\u001b[0m\n\u001b[0;32m----> 9\u001b[0;31m     \u001b[0msqaure_list\u001b[0m\u001b[0;34m.\u001b[0m\u001b[0mappend\u001b[0m\u001b[0;34m[\u001b[0m\u001b[0mx\u001b[0m\u001b[0;34m]\u001b[0m\u001b[0;34m\u001b[0m\u001b[0;34m\u001b[0m\u001b[0m\n\u001b[0m\u001b[1;32m     10\u001b[0m     \u001b[0my\u001b[0m\u001b[0;34m=\u001b[0m\u001b[0;32mlambda\u001b[0m \u001b[0mb\u001b[0m\u001b[0;34m:\u001b[0m\u001b[0mb\u001b[0m\u001b[0;34m*\u001b[0m\u001b[0mb\u001b[0m\u001b[0;34m*\u001b[0m\u001b[0mb\u001b[0m\u001b[0;34m\u001b[0m\u001b[0;34m\u001b[0m\u001b[0m\n\u001b[1;32m     11\u001b[0m     \u001b[0mcube_list\u001b[0m\u001b[0;34m.\u001b[0m\u001b[0mappend\u001b[0m\u001b[0;34m[\u001b[0m\u001b[0my\u001b[0m\u001b[0;34m]\u001b[0m\u001b[0;34m\u001b[0m\u001b[0;34m\u001b[0m\u001b[0m\n",
      "\u001b[0;31mTypeError\u001b[0m: 'builtin_function_or_method' object is not subscriptable"
     ]
    }
   ],
   "source": [
    "'''16) Write a Python program to square and cube every number in a given list of\n",
    "integers using Lambda.'''\n",
    "\n",
    "given_list=[5,6,7,4,3]\n",
    "for i in given_list:\n",
    "    sqaure_list=[]\n",
    "    cube_list=[]\n",
    "    x=lambda a:a*a\n",
    "    sqaure_list.append[x]\n",
    "    y=lambda b:b*b*b\n",
    "    cube_list.append[y]\n",
    "    print (given_list)\n",
    "    print (sqaure_list)\n",
    "    print (cube_list)"
   ]
  },
  {
   "cell_type": "code",
   "execution_count": 9,
   "metadata": {
    "collapsed": false
   },
   "outputs": [
    {
     "name": "stdout",
     "output_type": "stream",
     "text": [
      "True\n"
     ]
    }
   ],
   "source": [
    "'''17)Write a Python program to find if a given string starts with a given character\n",
    "using Lambda.'''\n",
    "\n",
    "starts_with = lambda x: True if x.startswith('R') else False\n",
    "print(starts_with('Rojina'))\n"
   ]
  },
  {
   "cell_type": "code",
   "execution_count": 12,
   "metadata": {
    "collapsed": false
   },
   "outputs": [
    {
     "name": "stdout",
     "output_type": "stream",
     "text": [
      "True\n"
     ]
    }
   ],
   "source": [
    "'''18) Write a Python program to check whether a given string is number or not\n",
    "using Lambda.'''\n",
    "\n",
    "is_num = lambda q: q.replace('.','',1).isdigit()\n",
    "print(is_num('26587'))"
   ]
  },
  {
   "cell_type": "code",
   "execution_count": 11,
   "metadata": {
    "collapsed": false
   },
   "outputs": [
    {
     "name": "stdout",
     "output_type": "stream",
     "text": [
      "[0, 1, 1, 2, 3, 5, 8]\n"
     ]
    }
   ],
   "source": [
    "'''19. Write a Python program to create Fibonacci series upto n using Lambda.'''\n",
    "\n",
    "from functools import reduce\n",
    " \n",
    "fib_series = lambda n: reduce(lambda x, _: x+[x[-1]+x[-2]],\n",
    "                                range(n-2), [0, 1])\n",
    " \n",
    "\n",
    "print(fib_series(7))"
   ]
  },
  {
   "cell_type": "code",
   "execution_count": 10,
   "metadata": {
    "collapsed": false
   },
   "outputs": [
    {
     "name": "stdout",
     "output_type": "stream",
     "text": [
      "Original arrays:\n",
      "[1, 2, 3, 5, 7, 8, 9, 10]\n",
      "[1, 2, 4, 8, 9]\n",
      "\n",
      "Intersection of the said arrays:  [1, 2, 8, 9]\n"
     ]
    }
   ],
   "source": [
    "'''20)20. Write a Python program to find intersection of two given arrays using lamda'''\n",
    "\n",
    "array1 = [1, 2, 3, 5, 7, 8, 9, 10]\n",
    "array2 = [1, 2, 4, 8, 9]\n",
    "print(\"Original arrays:\")\n",
    "print(array1)\n",
    "print(array2)\n",
    "result = list(filter(lambda x: x in array1, array2)) \n",
    "print (\"\\nIntersection of the said arrays: \",result)\n"
   ]
  },
  {
   "cell_type": "code",
   "execution_count": 0,
   "metadata": {
    "collapsed": false
   },
   "outputs": [
   ],
   "source": [
   ]
  },
  {
   "cell_type": "code",
   "execution_count": 16,
   "metadata": {
    "collapsed": false
   },
   "outputs": [
    {
     "name": "stdout",
     "output_type": "stream",
     "text": [
      "Help on tuple object:\n",
      "\n",
      "class tuple(object)\n",
      " |  tuple() -> empty tuple\n",
      " |  tuple(iterable) -> tuple initialized from iterable's items\n",
      " |  \n",
      " |  If the argument is a tuple, the return value is the same object.\n",
      " |  \n",
      " |  Methods defined here:\n",
      " |  \n",
      " |  __add__(self, value, /)\n",
      " |      Return self+value.\n",
      " |  \n",
      " |  __contains__(self, key, /)\n",
      " |      Return key in self.\n",
      " |  \n",
      " |  __eq__(self, value, /)\n",
      " |      Return self==value.\n",
      " |  \n",
      " |  __ge__(self, value, /)\n",
      " |      Return self>=value.\n",
      " |  \n",
      " |  __getattribute__(self, name, /)\n",
      " |      Return getattr(self, name).\n",
      " |  \n",
      " |  __getitem__(self, key, /)\n",
      " |      Return self[key].\n",
      " |  \n",
      " |  __getnewargs__(...)\n",
      " |  \n",
      " |  __gt__(self, value, /)\n",
      " |      Return self>value.\n",
      " |  \n",
      " |  __hash__(self, /)\n",
      " |      Return hash(self).\n",
      " |  \n",
      " |  __iter__(self, /)\n",
      " |      Implement iter(self).\n",
      " |  \n",
      " |  __le__(self, value, /)\n",
      " |      Return self<=value.\n",
      " |  \n",
      " |  __len__(self, /)\n",
      " |      Return len(self).\n",
      " |  \n",
      " |  __lt__(self, value, /)\n",
      " |      Return self<value.\n",
      " |  \n",
      " |  __mul__(self, value, /)\n",
      " |      Return self*value.\n",
      " |  \n",
      " |  __ne__(self, value, /)\n",
      " |      Return self!=value.\n",
      " |  \n",
      " |  __new__(*args, **kwargs) from builtins.type\n",
      " |      Create and return a new object.  See help(type) for accurate signature.\n",
      " |  \n",
      " |  __repr__(self, /)\n",
      " |      Return repr(self).\n",
      " |  \n",
      " |  __rmul__(self, value, /)\n",
      " |      Return value*self.\n",
      " |  \n",
      " |  count(...)\n",
      " |      T.count(value) -> integer -- return number of occurrences of value\n",
      " |  \n",
      " |  index(...)\n",
      " |      T.index(value, [start, [stop]]) -> integer -- return first index of value.\n",
      " |      Raises ValueError if the value is not present.\n",
      "\n"
     ]
    }
   ],
   "source": [
    "help(tuple\n",
    "  )"
   ]
  },
  {
   "cell_type": "code",
   "execution_count": 0,
   "metadata": {
    "collapsed": false
   },
   "outputs": [
   ],
   "source": [
   ]
  }
 ],
 "metadata": {
  "kernelspec": {
   "display_name": "Python 3 (system-wide)",
   "language": "python",
   "metadata": {
    "cocalc": {
     "description": "Python 3 programming language",
     "priority": 100,
     "url": "https://www.python.org/"
    }
   },
   "name": "python3"
  },
  "language_info": {
   "codemirror_mode": {
    "name": "ipython",
    "version": 3
   },
   "file_extension": ".py",
   "mimetype": "text/x-python",
   "name": "python",
   "nbconvert_exporter": "python",
   "pygments_lexer": "ipython3",
   "version": "3.6.9"
  }
 },
 "nbformat": 4,
 "nbformat_minor": 4
}